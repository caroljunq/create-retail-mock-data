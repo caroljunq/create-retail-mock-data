{
 "cells": [
  {
   "cell_type": "code",
   "execution_count": null,
   "metadata": {},
   "outputs": [],
   "source": [
    "import mimesis # https://github.com/lk-geimfari/mimesis\n",
    "import random\n",
    "import pandas as pd\n",
    "import numpy as np"
   ]
  },
  {
   "cell_type": "code",
   "execution_count": null,
   "metadata": {},
   "outputs": [],
   "source": [
    "# integers\n",
    "# values_highest_perc = [18,19,20,21,22,23,24,25] ex: highest_perc = 50% between 18-25 years old, delta = 8 elements, \n",
    "# 6,25% each, or 0.0625\n",
    "def random_values_probabilities(min_value, max_value, values_highest_perc, highest_perc):\n",
    "    values = list(range(min_value, max_value))\n",
    "    elem_perc = highest_perc/len(values_highest_perc) # percentvalue per elements in the values_highest_perc\n",
    "    other_perc = 1 - highest_perc # percentvalue of the rest of the values\n",
    "    probabilities = [random.random() for _ in range(len(values))] # random initial probabilities\n",
    "    sum_probabilities = sum(probabilities)\n",
    "    \n",
    "    # https://stackoverflow.com/questions/2640053/getting-n-random-numbers-whose-sum-is-m\n",
    "    # Just generate N random numbers, compute their sum, divide each one by the sum and multiply by M.\n",
    "    for i in range(len(probabilities)):\n",
    "        # generating probabilities equal to other_perc (1 - highest_perc)\n",
    "        probabilities[i] = (probabilities[i]/sum_probabilities) * other_perc\n",
    "        \n",
    "    for i in range(len(values)):\n",
    "        if values[i] in values_highest_perc:\n",
    "            probabilities[i] = elem_perc\n",
    "            \n",
    "    # fixing acumulate error       \n",
    "    err_corr_per_elem = (1 - sum(probabilities))/len(values)\n",
    "    # distributing errors to all elements\n",
    "    probabilities = [elem + err_corr_per_elem for elem in probabilities]\n",
    "    \n",
    "    return probabilities "
   ]
  },
  {
   "cell_type": "code",
   "execution_count": null,
   "metadata": {},
   "outputs": [],
   "source": [
    "outfile = \"shippers.csv\"\n",
    "outsize = 8000 \n",
    "business = mimesis.Business()\n",
    "person = mimesis.Person()\n",
    "address = mimesis.Address()\n",
    "dates = mimesis.Datetime()\n"
   ]
  },
  {
   "cell_type": "code",
   "execution_count": null,
   "metadata": {},
   "outputs": [],
   "source": [
    "country_probabilities = random_values_probabilities(1,246,[65,72,74],0.45) # france, uk, spain\n",
    "with open(outfile, 'a') as csvfile:\n",
    "    for i in range(outsize):\n",
    "        id = i + 1\n",
    "        supplier_id = id\n",
    "        display_phone = person.telephone()\n",
    "        phoneNumber = person.telephone()\n",
    "        responsible_name = person.full_name().replace(\",\",\"\")\n",
    "        title = business.company().replace(\",\",\"\")\n",
    "        email = person.email()\n",
    "        postalcode = address.postal_code()\n",
    "        fax = person.telephone()\n",
    "        country_id = np.random.choice(list(range(1,246)), p=country_probabilities)\n",
    "        city = address.city().replace(',','')\n",
    "        state = address.state().replace(',','')\n",
    "        register_date = dates.formatted_datetime('%Y-%m-%d %H:%M:00')\n",
    "        txt = '%i,%s,%s,%s,%s,%s,%i,%s,%s,%s\\n'%(supplier_id,display_phone,phoneNumber,responsible_name,title,email,country_id,city, state, register_date)\n",
    "        csvfile.write(txt)\n",
    "        print(i)\n",
    "        "
   ]
  },
  {
   "cell_type": "code",
   "execution_count": null,
   "metadata": {},
   "outputs": [],
   "source": [
    "# exploring customers dataset\n",
    "suppliers = pd.read_csv(\"suppliers.csv\",header=None,delimiter=\",\")\n",
    "suppliers.shape"
   ]
  },
  {
   "cell_type": "code",
   "execution_count": null,
   "metadata": {},
   "outputs": [],
   "source": [
    "suppliers.head()"
   ]
  },
  {
   "cell_type": "code",
   "execution_count": null,
   "metadata": {},
   "outputs": [],
   "source": [
    "suppliers.tail()"
   ]
  },
  {
   "cell_type": "code",
   "execution_count": null,
   "metadata": {},
   "outputs": [],
   "source": [
    "# country distribution\n",
    "suppliers.groupby(6).count()"
   ]
  },
  {
   "cell_type": "code",
   "execution_count": null,
   "metadata": {},
   "outputs": [],
   "source": [
    "x = suppliers.loc[(suppliers[6] == 65) | (suppliers[6] == 72) | (suppliers[6] == 74)]\n",
    "x.count()"
   ]
  },
  {
   "cell_type": "code",
   "execution_count": null,
   "metadata": {},
   "outputs": [],
   "source": [
    "suppliers[0].max()"
   ]
  },
  {
   "cell_type": "code",
   "execution_count": null,
   "metadata": {},
   "outputs": [],
   "source": []
  }
 ],
 "metadata": {
  "kernelspec": {
   "display_name": "Python 3",
   "language": "python",
   "name": "python3"
  },
  "language_info": {
   "codemirror_mode": {
    "name": "ipython",
    "version": 3
   },
   "file_extension": ".py",
   "mimetype": "text/x-python",
   "name": "python",
   "nbconvert_exporter": "python",
   "pygments_lexer": "ipython3",
   "version": "3.7.4"
  }
 },
 "nbformat": 4,
 "nbformat_minor": 2
}
